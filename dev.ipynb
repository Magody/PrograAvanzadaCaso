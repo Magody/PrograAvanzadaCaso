{
 "cells": [
  {
   "cell_type": "code",
   "execution_count": 1,
   "metadata": {},
   "outputs": [],
   "source": [
    "import csv\n",
    "\n",
    "# Crear un mock de datos\n",
    "mock_data = [\n",
    "    [\"001\", \"Cien años de soledad\", \"2023-01-01 10:00\", \"2023-01-15 10:00\", \"Novela\", 417],\n",
    "    [\"002\", \"Don Quijote de la Mancha\", \"2023-02-01 09:30\", \"2023-02-20 11:00\", \"Novela\", 863],\n",
    "    [\"003\", \"El amor en los tiempos del cólera\", \"2023-03-10 14:00\", \"2023-03-25 12:00\", \"Novela\", 348],\n",
    "    # Agrega más registros según sea necesario\n",
    "]\n",
    "\n",
    "# Guardar el mock en un archivo CSV\n",
    "with open(\"./data/mock_prestamos.csv\", \"w\", newline=\"\") as file:\n",
    "    writer = csv.writer(file)\n",
    "    writer.writerow([\"Código de libro\", \"Nombre del libro\", \"Fecha de préstamo\", \"Fecha de devolución\", \"Temática del libro\", \"Número de páginas\"])\n",
    "    writer.writerows(mock_data)"
   ]
  },
  {
   "cell_type": "code",
   "execution_count": null,
   "metadata": {},
   "outputs": [],
   "source": []
  }
 ],
 "metadata": {
  "kernelspec": {
   "display_name": "env_101",
   "language": "python",
   "name": "python3"
  },
  "language_info": {
   "codemirror_mode": {
    "name": "ipython",
    "version": 3
   },
   "file_extension": ".py",
   "mimetype": "text/x-python",
   "name": "python",
   "nbconvert_exporter": "python",
   "pygments_lexer": "ipython3",
   "version": "3.11.9"
  }
 },
 "nbformat": 4,
 "nbformat_minor": 2
}
